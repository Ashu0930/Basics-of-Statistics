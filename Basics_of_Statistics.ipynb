{
  "nbformat": 4,
  "nbformat_minor": 0,
  "metadata": {
    "colab": {
      "provenance": []
    },
    "kernelspec": {
      "name": "python3",
      "display_name": "Python 3"
    },
    "language_info": {
      "name": "python"
    }
  },
  "cells": [
    {
      "cell_type": "markdown",
      "source": [
        "# Basics of Statistics"
      ],
      "metadata": {
        "id": "fbevT1YQdSTH"
      }
    },
    {
      "cell_type": "markdown",
      "source": [
        "1. Explain the different types of data (qualitative and quantitative) and provide examples of each. Discuss nominal, ordinal, interval, and ratio scales."
      ],
      "metadata": {
        "id": "7eGo6Li8dZx_"
      }
    },
    {
      "cell_type": "markdown",
      "source": [
        "-> Data can broadly be categorized into two types:\n",
        "\n",
        "1. Qualitative (Categorical) Data\n",
        "\n",
        "2. Quantitative (Numerical) Data\n",
        "\n",
        "> Qualitative Data :\n",
        "\n",
        "Qualitative data describes qualities or characteristics. It cannot be measured in numbers but rather categorized based on traits and attributes.\n",
        "\n",
        "  - Nominal Scale\n",
        "\n",
        "Definition : Data is categorized without any order or ranking.\n",
        "\n",
        "Examples:\n",
        "\n",
        "Gender (Male, Female, Other)\n",
        "\n",
        "Eye color (Brown, Blue, Green)\n",
        "\n",
        "Nationality (Indian, American, Canadian)\n",
        "\n",
        "  - Ordinal Scale :\n",
        "\n",
        "Definition : Data is categorized with a meaningful order, but the differences between ranks are not equal or measurable.\n",
        "\n",
        "Examples:\n",
        "\n",
        "Movie ratings (Poor, Fair, Good, Excellent)\n",
        "\n",
        "Education level (High School, Bachelor's, Master's, PhD)\n",
        "\n",
        "Customer satisfaction (Dissatisfied, Neutral, Satisfied)\n",
        "\n",
        "> Quantitative Data\n",
        "\n",
        "Quantitative data refers to numerical values that can be measured or counted.\n",
        "\n",
        "  - Interval Scale\n",
        "\n",
        "Definition: Numerical data with equal intervals between values, but no true zero point.\n",
        "\n",
        "Examples:\n",
        "\n",
        "Temperature in Celsius or Fahrenheit\n",
        "\n",
        "Dates (e.g., years like 1990, 2000)\n",
        "\n",
        "IQ scores\n",
        "\n",
        "  - Ratio Scale\n",
        "\n",
        "Definition: Numerical data with equal intervals and a true zero point, allowing for meaningful ratios.\n",
        "\n",
        "Examples:\n",
        "\n",
        "Weight (kg, lb)\n",
        "\n",
        "Height (cm, inches)\n",
        "\n",
        "Income, age, distance, time duration"
      ],
      "metadata": {
        "id": "9h13ScJfdpDy"
      }
    },
    {
      "cell_type": "markdown",
      "source": [
        "#2.  What are the measures of central tendency, and when should you use each? Discuss the mean, median and mode with examples and situations where each is appropriate."
      ],
      "metadata": {
        "id": "XINAcoH2iFGV"
      }
    },
    {
      "cell_type": "markdown",
      "source": [
        "-> These are values that represent the center or typical value of a dataset. The three main measures are:\n",
        "\n",
        "1. Mean\n",
        "2. Median\n",
        "3. Mode\n",
        "\n",
        "\n",
        "#1. Mean (Average)\n",
        "\n",
        "Definition:\n",
        "The sum of all values divided by the number of values.\n",
        "\n",
        "Formula:\n",
        "\n",
        "    Mean= ∑x / n\n",
        "\n",
        "Example:\n",
        "If test scores are: 70, 75, 80, 85, 90\n",
        "\n",
        "    Mean = (70+75+80+85+90) / 5\n",
        "\n",
        "    Mean= 400 / 5\n",
        "\n",
        "    Mean = 80\n",
        "\n",
        "Use When:\n",
        "\n",
        "  - Data is numerical and evenly distributed\n",
        "\n",
        "  - No extreme outliers (which can distort the average)\n",
        "\n",
        "Real-Life Example:\n",
        "\n",
        "  - Calculating the average marks in a class\n",
        "\n",
        "  - Average income (when data is not skewed)\n",
        "\n",
        "#2. Median\n",
        "\n",
        "Definition:\n",
        "The middle value when the data is sorted in order.\n",
        "\n",
        "How to Find:\n",
        "\n",
        "  - Odd number of values → Middle value\n",
        "\n",
        "  - Even number of values → Average of two middle values\n",
        "\n",
        "\n",
        "```\n",
        "Example:\n",
        "\n",
        "    Data: 10, 20, 30, 100, 1000  \n",
        "    Median = 30 (middle value)\n",
        "    \n",
        "```\n",
        "\n",
        "\n",
        "\n",
        "Use When:\n",
        "\n",
        "  - Data has outliers or is skewed\n",
        "\n",
        "  - You want the central position rather than the arithmetic average\n",
        "\n",
        "Real-Life Example:\n",
        "\n",
        "  - Median household income (avoids distortion from very rich individuals)\n",
        "\n",
        "  - Home prices in real estate  \n",
        "\n",
        "#3. Mode\n",
        "\n",
        "Definition:\n",
        "The value that appears most frequently in a dataset.\n",
        "\n",
        "    Example:\n",
        "\n",
        "    Data: 3, 4, 4, 4, 5, 6, 6\n",
        "    Mode = 4\n",
        "\n",
        "Use When:\n",
        "\n",
        "  - You want the most common or frequent item\n",
        "\n",
        "  - Data is categorical or discrete\n",
        "\n",
        "Real-Life Example:\n",
        "\n",
        "  - Most popular shoe size in a store\n",
        "\n",
        "  - Most common exam grade in a class\n",
        "\n",
        "  - Favorite color in a survey"
      ],
      "metadata": {
        "id": "g27QkLmZil73"
      }
    },
    {
      "cell_type": "markdown",
      "source": [
        "#3. Explain the concept of dispersion. How do variance and standard deviation measure the spread of data?"
      ],
      "metadata": {
        "id": "hmzdyyL3l8gp"
      }
    },
    {
      "cell_type": "markdown",
      "source": [
        "-> In statistics, dispersion refers to the extent to which data points in a dataset are spread out or clustered around the mean. Variance and standard deviation are key measures of dispersion, quantifying how much data deviates from the average, with standard deviation being the square root of variance and expressed in the same units as the original data.\n",
        "\n",
        "- Dispersion:\n",
        "  \n",
        "  - It's a measure of how spread out or varied a set of data is.\n",
        "  - It complements measures of central tendency (like mean, median, and mode) by providing insight into the data's variability.\n",
        "  - A high dispersion indicates that data points are widely scattered, while a low dispersion means data points are clustered closely around the mean.\n",
        "\n",
        "-  Variance:\n",
        "\n",
        "  - It's calculated by finding the average of the squared differences between each data point and the mean.\n",
        "  - Squaring the differences emphasizes larger deviations from the mean, giving more weight to outliers.\n",
        "  - A larger variance indicates a greater spread of data, while a smaller variance suggests data points are closer to the mean.\n",
        "\n",
        "- Standard Deviation:\n",
        "  \n",
        "  - It's the square root of the variance.\n",
        "  - Unlike variance, which is expressed in squared units, standard deviation is in the same units as the original data, making it easier to interpret.\n",
        "  - A larger standard deviation means the data is more spread out, and a smaller standard deviation indicates data points are clustered more tightly around the mean.\n",
        "\n",
        "  \n",
        "  Relationship between Variance and Standard Deviation:\n",
        "\n",
        "  - Standard deviation is a more intuitive measure of dispersion than variance because it's in the same units as the original data.\n",
        "  - Variance is a crucial intermediate step in calculating standard deviation, and it's used in various statistical analyses"
      ],
      "metadata": {
        "id": "p-w3V82jshJu"
      }
    },
    {
      "cell_type": "markdown",
      "source": [
        "#4. What is a box plot, and what can it tell you about the distribution of data?"
      ],
      "metadata": {
        "id": "cccAyU25tZSx"
      }
    },
    {
      "cell_type": "markdown",
      "source": [
        "-> A box plot (aka box and whisker plot) uses boxes and lines to depict the distributions of one or more groups of numeric data. Box limits indicate the range of the central 50% of the data, with a central line marking the median value. Lines extend from each box to capture the range of the remaining data, with dots placed past the line edges to indicate outliers.\n",
        "\n",
        "A Box Plot Tells You :\n",
        "\n",
        "1. Spread of the Data\n",
        "\n",
        "  - The width of the box (Q3 − Q1) represents the interquartile range (IQR) → middle 50% of the data.\n",
        "\n",
        "  - Longer boxes or whiskers indicate greater variability.\n",
        "\n",
        "2. Center of the Data\n",
        "\n",
        "  - The line inside the box shows the median → a key measure of central tendency.\n",
        "\n",
        "3. Skewness (Symmetry)\n",
        "\n",
        "  - If the median is centered in the box and whiskers are of equal length, the data is symmetrical.\n",
        "\n",
        "  - If the median is closer to Q1 or Q3, or if one whisker is longer, it suggests skewness (left or right).\n",
        "\n",
        "4. Outliers\n",
        "\n",
        "  - Dots or asterisks outside the whiskers represent outliers → values far from the rest of the data.\n",
        "\n",
        "Why Use a Box Plot?\n",
        "\n",
        "  - Quick summary of large datasets\n",
        "\n",
        "  - Visual comparison between groups (e.g., comparing scores across different classes)\n",
        "\n",
        "  - Easily detect skewness, spread, and outliers  "
      ],
      "metadata": {
        "id": "DwpYIpCetc0w"
      }
    },
    {
      "cell_type": "markdown",
      "source": [
        "#5.  Discuss the role of random sampling in making inferences about populations."
      ],
      "metadata": {
        "id": "CKFTk_Ce5eK5"
      }
    },
    {
      "cell_type": "markdown",
      "source": [
        "-> Random sampling is crucial for making valid inferences about a population because it ensures the sample is representative, minimizing bias and allowing for generalizations about the larger group based on the sample's characteristics.\n",
        "\n",
        "Example : A researcher randomly selects patients from a hospital to study the effectiveness of a new treatment.\n",
        "\n",
        "Types of Random Sampling:\n",
        "\n",
        "- Simple Random Sampling: Every member of the population has an equal chance of being selected.\n",
        "- Stratified Random Sampling: The population is divided into subgroups (strata), and then a random sample is taken from each stratum.\n",
        "- Cluster Sampling: The population is divided into clusters, and then a random sample of clusters is selected.\n",
        "\n",
        "\n",
        "How It Helps in Making Inferences\n",
        "\n",
        " 1. Reduces Bias\n",
        "Random sampling prevents systematic errors.\n",
        "\n",
        "  - Every group or type within the population has a fair shot at being selected.\n",
        "\n",
        " 2. Enables Generalization\n",
        "\n",
        "  - If the sample is random and representative, we can extend conclusions from the sample to the entire population.\n",
        "\n",
        " 3. Supports Valid Statistical Tests\n",
        "  \n",
        "  - Many statistical techniques (e.g., hypothesis testing, confidence intervals) assume randomness in sampling for the results to be valid.\n",
        "\n",
        " 4. Ensures Diversity in Data\n",
        "\n",
        "  - Random selection captures different segments of the population, leading to more accurate and complete insights."
      ],
      "metadata": {
        "id": "fXwuXg2A5ggj"
      }
    },
    {
      "cell_type": "markdown",
      "source": [
        "#6. Explain the concept of skewness and its types. How does skewness affect the interpretation of data?"
      ],
      "metadata": {
        "id": "8Cj1aWAd6uR4"
      }
    },
    {
      "cell_type": "markdown",
      "source": [
        "-> Skewness measures the asymmetry of a data distribution, indicating whether the data is spread out more on one side than the other. It can be positive (right-skewed), negative (left-skewed), or zero (symmetrical).\n",
        "\n",
        "- A symmetric distribution has the mean = median = mode\n",
        "- A skewed distribution is not symmetric—the tail on one side is longer or fatter than the other\n",
        "\n",
        "Types of Skewness :\n",
        "\n",
        "1. Positive Skew (Right-Skewed)\n",
        "  \n",
        "  - Tail is longer on the right\n",
        "\n",
        "  - Mean > Median > Mode\n",
        "\n",
        "  - Most values are clustered on the lower end, with a few large outliers\n",
        "\n",
        "Example:\n",
        "\n",
        "Income distribution: Most people earn a modest amount, but a few earn extremely high salaries\n",
        "\n",
        "2. Negative Skew (Left-Skewed)\n",
        "\n",
        "  - Tail is longer on the left\n",
        "\n",
        "  - Mean < Median < Mode\n",
        "\n",
        "  - Most values are clustered on the higher end, with a few small outliers\n",
        "\n",
        "Example:\n",
        "\n",
        "Test scores where most students score high, but a few score very low\n",
        "\n",
        "3. Zero Skew (Symmetrical)\n",
        "\n",
        "  - Data is evenly distributed\n",
        "\n",
        "  - Mean = Median = Mode\n",
        "\n",
        "  - Classic example: Normal distribution (bell curve)\n",
        "\n",
        "How Skewness Affects Interpretation :\n",
        "\n",
        " 1. Mean is Sensitive to Skewness\n",
        "\n",
        "  - Mean gets pulled in the direction of the tail\n",
        "\n",
        "  - Right-skew → mean is higher\n",
        "\n",
        "  - Left-skew → mean is lower\n",
        "\n",
        " 2. Median is More Robust\n",
        "\n",
        "  - Median is less affected by extreme values, making it more reliable in skewed data\n",
        "\n",
        " 3. Impacts Statistical Analysis\n",
        "\n",
        "  - Skewed data can violate assumptions of statistical tests (like normality in t-tests)\n",
        "\n",
        "  - May require data transformation (e.g., log transformation) or use of non-parametric tests\n"
      ],
      "metadata": {
        "id": "ZNtXsKUW6xtl"
      }
    },
    {
      "cell_type": "markdown",
      "source": [
        "#7. What is the interquartile range (IQR), and how is it used to detect outliers?"
      ],
      "metadata": {
        "id": "_mGbV4nf8ImG"
      }
    },
    {
      "cell_type": "markdown",
      "source": [
        "-> The Interquartile Range (IQR) is a measure of statistical dispersion.\n",
        "It represents the range of the middle 50% of the data.\n",
        "\n",
        "`Formula: IQR = Q3 - Q1`\n",
        "\n",
        "Where:\n",
        "\n",
        "  - Q1 (First Quartile): 25th percentile (the value below which 25% of the data lies)\n",
        "\n",
        "  - Q3 (Third Quartile): 75th percentile (the value below which 75% of the data lies)\n",
        "\n",
        "### What Does IQR Tell You?\n",
        "\n",
        "  - It shows how spread out the middle values are\n",
        "\n",
        "  - It is resistant to outliers (unlike the range)\n",
        "\n",
        "  - It helps you understand data concentration and variability\n",
        "\n",
        "Outliers are data points that lie far outside the typical range of the data.\n",
        "\n",
        "### Outlier Rules Using IQR:\n",
        "\n",
        "A data point is considered an outlier if it falls:\n",
        "\n",
        "  - Below:  Q1 - 1.5 * IQR\n",
        "\n",
        "  - Above: Q3 + 1.5 * IQR  "
      ],
      "metadata": {
        "id": "W4hMthiX8k26"
      }
    },
    {
      "cell_type": "markdown",
      "source": [
        "#8.  Discuss the conditions under which the binomial distribution is used."
      ],
      "metadata": {
        "id": "bb3sIGUK-JY2"
      }
    },
    {
      "cell_type": "markdown",
      "source": [
        "-> The binomial distribution is a discrete probability distribution that describes the number of successes in a fixed number of independent trials, where each trial has only two possible outcomes:\n",
        "\n",
        "a) Success (e.g., heads, pass, win)\n",
        "\n",
        "b) Failure (e.g., tails, fail, lose)\n",
        "\n",
        "To use the binomial distribution, the following four key conditions must be met:\n",
        "\n",
        "1. Fixed Number of Trials (n)\n",
        "\n",
        "  - The number of experiments or observations (n) is set in advance.\n",
        "  - Example: Flipping a coin 10 times.\n",
        "\n",
        "2. Two Possible Outcomes (Success/Failure)\n",
        "\n",
        "  - Each trial results in just one of two outcomes.\n",
        "  - You must be able to classify each outcome as a \"success\" or a \"failure\".\n",
        "  - Examples:\n",
        "\n",
        "    Success = getting heads; Failure = getting tails\n",
        "\n",
        "    Success = passing an exam; Failure = failing the exam  \n",
        "\n",
        "3. Constant Probability of Success (p)\n",
        "\n",
        "  - The probability of success remains the same for every trial.\n",
        "  - For example, in a fair coin toss, P(heads) = 0.5 for each toss.\n",
        "\n",
        "4. Independent Trials\n",
        "\n",
        "  - The outcome of one trial does not affect the outcome of another.\n",
        "  - Each trial is independent of the other\n",
        "\n"
      ],
      "metadata": {
        "id": "2mcu8kqs-UzA"
      }
    },
    {
      "cell_type": "markdown",
      "source": [
        "#9. Explain the properties of the normal distribution and the empirical rule (68-95-99.7 rule)."
      ],
      "metadata": {
        "id": "gvNh4O7g_P5b"
      }
    },
    {
      "cell_type": "markdown",
      "source": [
        "-> The normal distribution is a bell-shaped, symmetric probability distribution that is widely used in statistics to model real-world data.\n",
        "\n",
        "Some of the important properties of the normal distribution are listed below:\n",
        "\n",
        "- In a normal distribution, the mean, median and mode are equal.(i.e., Mean = Median= Mode).\n",
        "- The total area under the curve should be equal to 1.\n",
        "- The normally distributed curve should be symmetric at the centre.\n",
        "- There should be exactly half of the values are to the right of the centre and exactly half of the values are to the left of the centre.\n",
        "- The normal distribution should be defined by the mean and standard deviation.\n",
        "- The normal distribution curve must have only one peak. (i.e., Unimodal)\n",
        "- The curve approaches the x-axis, but it never touches, and it extends farther away from the mean.\n",
        "\n",
        "### Empirical Rule (68-95-99.7 Rule)\n",
        "\n",
        "In statistics, the 68 - 95 - 99.7 rule, also known as the empirical rule, and sometimes abbreviated 3sr or 3σ, is a shorthand used to remember the percentage of values that lie within an interval estimate in a normal distribution: approximately 68%, 95%, and 99.7% of the values lie within one, two, and three standard"
      ],
      "metadata": {
        "id": "kRqR4yOs_Sdp"
      }
    },
    {
      "cell_type": "markdown",
      "source": [
        "#10. Provide a real-life example of a Poisson process and calculate the probability for a specific event."
      ],
      "metadata": {
        "id": "klOzWz8lA3IS"
      }
    },
    {
      "cell_type": "markdown",
      "source": [
        "-> Real-Life Example :  Calls per Hour at a Call Center\n",
        "\n",
        "Call centers use the Poisson distribution to model the number of expected calls per hour that they’ll receive so they know how many call center reps to keep on staff.\n",
        "\n",
        "For example, suppose a given call center receives 10 calls per hour. We can use a Poisson distribution calculator to find the probability that a call center receives 0, 1, 2, 3 … calls in a given hour\n",
        "\n",
        "P(X = 0 calls) = 0.00005\n",
        "\n",
        "P(X = 1 call) = 0.00045\n",
        "\n",
        "P(X = 2 calls) = 0.00227\n",
        "\n",
        "P(X = 3 calls) = 0.00757\n",
        "\n",
        "And so on.\n",
        "\n",
        "This gives call center managers an idea of how many calls they’re likely to receive per hour and enables them to manage employee schedules based on the number of expected calls."
      ],
      "metadata": {
        "id": "t776lh2kBHwC"
      }
    },
    {
      "cell_type": "markdown",
      "source": [
        "#11. Explain what a random variable is and differentiate between discrete and continuous random variables."
      ],
      "metadata": {
        "id": "PoRFEF7eCuss"
      }
    },
    {
      "cell_type": "markdown",
      "source": [
        "-> A random variable is a numerical value assigned to the outcome of a random experiment. It helps translate outcomes (like \"heads\" or \"tails\") into numbers (like 0 or 1) so we can apply mathematical analysis.\n",
        "\n",
        "Types of Random Variables :\n",
        "\n",
        "###1. Discrete Random Variable\n",
        "\n",
        "  - Takes on a countable number of distinct values\n",
        "  - Often involves counting outcomes\n",
        "\n",
        "  Examples:\n",
        "\n",
        "    - Number of students in a class (0, 1, 2, ...)\n",
        "    - Number of heads in 3 coin tosses (0, 1, 2, 3)\n",
        "    - Number of emails received per day\n",
        "\n",
        "  Key Features:\n",
        "\n",
        "    - Values can be listed\n",
        "    - Often used in binomial, Poisson, or geometric distributions\n",
        "\n",
        "###2. Continuous Random Variable\n",
        "\n",
        "  - Takes on infinite values within a range\n",
        "  - Involves measuring something\n",
        "\n",
        "  Examples:\n",
        "\n",
        "    - Height of students (e.g., 160.5 cm)\n",
        "    - Time it takes to complete a test\n",
        "    - Temperature in a day\n",
        "\n",
        "  Key Features:\n",
        "\n",
        "    - Values are not countable\n",
        "    - Any value in an interval is possible\n",
        "    - Often used in normal, exponential, or uniform distributions  "
      ],
      "metadata": {
        "id": "2D0eJRifB8Of"
      }
    },
    {
      "cell_type": "markdown",
      "source": [
        "#12. Provide an example dataset, calculate both covariance and correlation, and interpret the results."
      ],
      "metadata": {
        "id": "knjxAXgOD-Ja"
      }
    },
    {
      "cell_type": "markdown",
      "source": [
        "-> Example Dataset:\n",
        "Imagine you're analyzing the relationship between the number of hours students study and their exam scores. Here's a sample dataset:\n",
        "\n",
        "    Hours Studied (X)       Exam Score (Y)\n",
        "\n",
        "      2                         60\n",
        "      4                         75\n",
        "      6                         85\n",
        "      8                         90\n",
        "      10                        95\n",
        "\n",
        "\n",
        "1. Calculate the Covariance:\n",
        "  \n",
        "  - Step 1: Calculate the mean of each variable:\n",
        "  \n",
        "  Mean of X (Hours Studied): (2+4+6+8+10)/5 = 6\n",
        "  \n",
        "  Mean of Y (Exam Score): (60+75+85+90+95)/5 = 80\n",
        "  \n",
        "  - Step 2: Calculate the covariance:\n",
        "  \n",
        "  Cov(X,Y) = Σ[(Xᵢ - Mean(X)) * (Yᵢ - Mean(Y))] / (n - 1)\n",
        "  \n",
        "  Cov(X,Y) = [(2-6)(60-80) + (4-6)(75-80) + (6-6)(85-80) + (8-6)(90-80) + (10-6)*(95-80)] / (5-1)\n",
        "  \n",
        "  Cov(X,Y) = [(-4*-20) + (-2*-5) + (05) + (210) + (4*15)] / 4\n",
        "  \n",
        "  Cov(X,Y) = (80 + 10 + 0 + 20 + 60) / 4\n",
        "  \n",
        "  Cov(X,Y) = 170 / 4 = 42.5\n",
        "  \n",
        "2. Calculate the Correlation (Pearson's Correlation Coefficient):\n",
        "  \n",
        "  - Step 1: Calculate the standard deviation of each variable:\n",
        "  \n",
        "  Standard Deviation of X (Hours Studied): √[Σ((Xᵢ - Mean(X))²) / (n - 1)]\n",
        "  \n",
        "  Standard Deviation of X = √[((2-6)² + (4-6)² + (6-6)² + (8-6)² + (10-6)²) / (5-1)]\n",
        "  \n",
        "  Standard Deviation of X = √[(16 + 4 + 0 + 4 + 16) / 4] = √[40/4] = √10 ≈ 3.16\n",
        "  \n",
        "  Standard Deviation of Y (Exam Score): √[Σ((Yᵢ - Mean(Y))²) / (n - 1)]\n",
        "  \n",
        "  Standard Deviation of Y = √[((60-80)² + (75-80)² + (85-80)² + (90-80)² + (95-80)²) / (5-1)]\n",
        "  \n",
        "  Standard Deviation of Y = √[(400 + 25 + 25 + 100 + 225) / 4] = √[775/4] ≈ 12.25\n",
        "  \n",
        "  - Step 2: Calculate the correlation coefficient:\n",
        "  \n",
        "  Correlation(X, Y) = Cov(X, Y) / (Standard Deviation of X * Standard Deviation of Y)\n",
        "  \n",
        "  Correlation(X, Y) = 42.5 / (3.16 * 12.25)\n",
        "  \n",
        "  Correlation(X, Y) ≈ 42.5 / 38.75 ≈ 1.09     \n",
        "\n",
        "3. Interpretation:\n",
        "\n",
        "- Covariance:\n",
        "\n",
        "The covariance of 42.5 indicates a positive relationship between hours studied and exam scores. As hours studied increases, exam scores tend to increase as well. The positive sign indicates that the variables move in the same direction.\n",
        "\n",
        "  - Correlation:\n",
        "\n",
        "The correlation coefficient of 1.09 (approximately) indicates a strong positive linear relationship between hours studied and exam scores. The closer the correlation is to +1, the stronger the positive linear relationship  "
      ],
      "metadata": {
        "id": "13jsZFemD_ru"
      }
    }
  ]
}